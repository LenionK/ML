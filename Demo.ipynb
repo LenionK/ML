{
 "cells": [
  {
   "cell_type": "code",
   "execution_count": 29,
   "metadata": {},
   "outputs": [],
   "source": [
    "from Moduli.ClassDictionary import ClassDictionary as cDict\n",
    "from Moduli.Dataset import ScenesDatabase as sd\n",
    "from Moduli.BellomoClassifier import BellomoClassifier  \n",
    "\n",
    "from torchvision import transforms"
   ]
  },
  {
   "cell_type": "code",
   "execution_count": 30,
   "metadata": {},
   "outputs": [],
   "source": [
    "m = [0.485, 0.456, 0.408]\n",
    "s = [0.229, 0.224, 0.225] \n",
    "\n",
    "test_transform = transforms.Compose([\n",
    "    transforms.Resize(224),\n",
    "    transforms.ToTensor(),\n",
    "    transforms.Normalize(m,s)\n",
    "])"
   ]
  },
  {
   "cell_type": "code",
   "execution_count": 31,
   "metadata": {},
   "outputs": [],
   "source": [
    "test = sd('Bellomo/Training/','Bellomo/Training/training.txt', transform=test_transform ,split= \"second\") "
   ]
  },
  {
   "cell_type": "code",
   "execution_count": 33,
   "metadata": {},
   "outputs": [
    {
     "name": "stdout",
     "output_type": "stream",
     "text": [
      "Using device: cuda\n"
     ]
    }
   ],
   "source": [
    "import numpy as np\n",
    "import torch\n",
    "from torch.utils.data import DataLoader\n",
    "import tkinter as tk\n",
    "from PIL import Image, ImageTk\n",
    "from tkinter import messagebox, Frame\n",
    "\n",
    "def transform_input(Dataset):\n",
    "    loader = DataLoader(Dataset, batch_size=100, num_workers=0 , drop_last= True, shuffle= True) \n",
    "    return loader\n",
    "\n",
    "# ... [Inserisci le tue definizioni precedenti per modello, dataset, ecc. qui] ...\n",
    "\n",
    "class BellomoApp(tk.Tk):\n",
    "\n",
    "    def __init__(self):\n",
    "        super().__init__()\n",
    "\n",
    "        self.title(\"Demo\")\n",
    "        self.geometry(\"260x480\")\n",
    "\n",
    "        self.frame = Frame(self, bg=\"#f5f5f5\")\n",
    "        self.frame.place(relwidth=1, relheight=1)\n",
    "\n",
    "        self.canvas = tk.Canvas(self.frame, bg=\"gray\", width=224, height=224)\n",
    "        self.canvas.pack(pady=20)\n",
    "\n",
    "        self.prediction_label = tk.Label(self.frame, text=\"\", font=('Arial', 12), bg=\"#f5f5f5\")\n",
    "        self.prediction_label.pack(pady=10)\n",
    "\n",
    "        self.btn_run_demo = tk.Button(self.frame, text=\"Run Demo\", command=self.call_demo)\n",
    "        self.btn_run_demo.pack(pady=10)\n",
    "\n",
    "        device = \"cuda\" if torch.cuda.is_available() else \"cpu\"\n",
    "        print(f\"Using device: {device}\")\n",
    "\n",
    "        try:\n",
    "            self.model = BellomoClassifier().eval()\n",
    "            self.model.load_state_dict(torch.load('%s-%d.pth' % (\"weight/BellomoClassifier-5\", 55), map_location=torch.device(device)))\n",
    "            self.model.to(device)\n",
    "        except Exception as e:\n",
    "            print(f\"Error loading the model: {e}\")\n",
    "\n",
    "    def call_demo(self):\n",
    "        loader = transform_input(test)  # Assuming this function returns DataLoader\n",
    "        self.demo(loader, 1)\n",
    "\n",
    "    def demo(self, loader, q):\n",
    "        i = 0\n",
    "        device = \"cuda\" if torch.cuda.is_available() else \"cpu\"\n",
    "        \n",
    "        classes = cDict().get()\n",
    "\n",
    "        for batch in loader:\n",
    "            images = batch['image']\n",
    "            labels = batch['label']\n",
    "\n",
    "            x = images.to(device)\n",
    "            y = labels.to(device)\n",
    "\n",
    "            output = self.model(x)\n",
    "            preds = output.to('cpu').max(1)[1].numpy()\n",
    "            labs = y.to('cpu').numpy()\n",
    "\n",
    "            # Display the image on canvas\n",
    "            img = np.transpose(images[0].numpy(), (1, 2, 0))\n",
    "            img = s * img + m \n",
    "            img = np.clip(img, 0, 1)\n",
    "            self.display_image_on_canvas(img)\n",
    "\n",
    "            # Display the original and predicted label in GUI\n",
    "            prediction_text = f\"Predicted: {classes[preds[0]]}\\nOriginal: {classes[labs[0]]}\"\n",
    "            self.display_prediction_text(prediction_text)\n",
    "\n",
    "            i += 1\n",
    "\n",
    "            if i == q:\n",
    "                break\n",
    "\n",
    "    def display_image_on_canvas(self, img_np_array):\n",
    "        img = Image.fromarray((img_np_array * 255).astype(np.uint8))\n",
    "        photo = ImageTk.PhotoImage(img)\n",
    "        self.canvas.image = photo\n",
    "        self.canvas.create_image(0, 0, anchor=tk.NW, image=photo)\n",
    "\n",
    "    def display_prediction_text(self, prediction_text):\n",
    "        self.prediction_label.config(text=prediction_text)\n",
    "\n",
    "if __name__ == '__main__':\n",
    "    app = BellomoApp()\n",
    "    app.mainloop()\n"
   ]
  }
 ],
 "metadata": {
  "kernelspec": {
   "display_name": "base",
   "language": "python",
   "name": "python3"
  },
  "language_info": {
   "codemirror_mode": {
    "name": "ipython",
    "version": 3
   },
   "file_extension": ".py",
   "mimetype": "text/x-python",
   "name": "python",
   "nbconvert_exporter": "python",
   "pygments_lexer": "ipython3",
   "version": "3.11.4"
  }
 },
 "nbformat": 4,
 "nbformat_minor": 2
}
